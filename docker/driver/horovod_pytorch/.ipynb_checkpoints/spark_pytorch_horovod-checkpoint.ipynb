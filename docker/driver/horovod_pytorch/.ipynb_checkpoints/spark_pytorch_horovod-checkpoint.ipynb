{
 "cells": [
  {
   "cell_type": "code",
   "execution_count": 1,
   "id": "b7378885",
   "metadata": {},
   "outputs": [],
   "source": [
    "import shutil\n",
    "import uuid\n",
    " \n",
    "import numpy as np\n",
    " \n",
    "import pyspark.sql.types as T\n",
    "from pyspark.ml.evaluation import MulticlassClassificationEvaluator\n",
    "from pyspark.ml.feature import OneHotEncoder\n",
    "from pyspark.sql.functions import udf\n",
    " \n",
    "import torch.nn as nn\n",
    "import torch.nn.functional as F\n",
    "import torch.optim as optim\n",
    " \n",
    "import horovod.spark.torch as hvd\n",
    "from horovod.spark.common.store import DBFSLocalStore"
   ]
  },
  {
   "cell_type": "code",
   "execution_count": 2,
   "id": "3d1084d5",
   "metadata": {},
   "outputs": [],
   "source": [
    "uuid_str = str(uuid.uuid4())\n",
    "work_dir = \"/dbfs/horovod_spark_estimator/\"+uuid_str\n",
    "num_proc = 2  # num_proc < (# worker CPUs) or (# worker GPUs) \n",
    "batch_size = 5\n",
    "epochs = 2"
   ]
  },
  {
   "cell_type": "code",
   "execution_count": 3,
   "id": "fa768c10",
   "metadata": {},
   "outputs": [
    {
     "ename": "NameError",
     "evalue": "name 'spark' is not defined",
     "output_type": "error",
     "traceback": [
      "\u001b[0;31m---------------------------------------------------------------------------\u001b[0m",
      "\u001b[0;31mNameError\u001b[0m                                 Traceback (most recent call last)",
      "Input \u001b[0;32mIn [3]\u001b[0m, in \u001b[0;36m<cell line: 6>\u001b[0;34m()\u001b[0m\n\u001b[1;32m      2\u001b[0m store \u001b[38;5;241m=\u001b[39m DBFSLocalStore(work_dir)\n\u001b[1;32m      4\u001b[0m \u001b[38;5;66;03m# Load MNIST data from databricks-datasets\u001b[39;00m\n\u001b[1;32m      5\u001b[0m \u001b[38;5;66;03m# So that this notebook can run quickly, this example uses the .limit() option. Using only limited data decreases the model's accuracy; remove this option for better accuracy. \u001b[39;00m\n\u001b[0;32m----> 6\u001b[0m train_df \u001b[38;5;241m=\u001b[39m \u001b[43mspark\u001b[49m\u001b[38;5;241m.\u001b[39mread\u001b[38;5;241m.\u001b[39mformat(\u001b[38;5;124m\"\u001b[39m\u001b[38;5;124mlibsvm\u001b[39m\u001b[38;5;124m\"\u001b[39m) \\\n\u001b[1;32m      7\u001b[0m   \u001b[38;5;241m.\u001b[39moption(\u001b[38;5;124m'\u001b[39m\u001b[38;5;124mnumFeatures\u001b[39m\u001b[38;5;124m'\u001b[39m, \u001b[38;5;124m'\u001b[39m\u001b[38;5;124m784\u001b[39m\u001b[38;5;124m'\u001b[39m) \\\n\u001b[1;32m      8\u001b[0m   \u001b[38;5;241m.\u001b[39mload(\u001b[38;5;124m\"\u001b[39m\u001b[38;5;124m/databricks-datasets/mnist-digits/data-001/mnist-digits-train.txt\u001b[39m\u001b[38;5;124m\"\u001b[39m) \\\n\u001b[1;32m      9\u001b[0m   \u001b[38;5;241m.\u001b[39mlimit(\u001b[38;5;241m60\u001b[39m)\u001b[38;5;241m.\u001b[39mrepartition(num_proc)\n\u001b[1;32m     10\u001b[0m test_df \u001b[38;5;241m=\u001b[39m spark\u001b[38;5;241m.\u001b[39mread\u001b[38;5;241m.\u001b[39mformat(\u001b[38;5;124m\"\u001b[39m\u001b[38;5;124mlibsvm\u001b[39m\u001b[38;5;124m\"\u001b[39m) \\\n\u001b[1;32m     11\u001b[0m   \u001b[38;5;241m.\u001b[39moption(\u001b[38;5;124m'\u001b[39m\u001b[38;5;124mnumFeatures\u001b[39m\u001b[38;5;124m'\u001b[39m, \u001b[38;5;124m'\u001b[39m\u001b[38;5;124m784\u001b[39m\u001b[38;5;124m'\u001b[39m) \\\n\u001b[1;32m     12\u001b[0m   \u001b[38;5;241m.\u001b[39mload(\u001b[38;5;124m\"\u001b[39m\u001b[38;5;124m/databricks-datasets/mnist-digits/data-001/mnist-digits-test.txt\u001b[39m\u001b[38;5;124m\"\u001b[39m) \\\n\u001b[1;32m     13\u001b[0m   \u001b[38;5;241m.\u001b[39mlimit(\u001b[38;5;241m20\u001b[39m)\u001b[38;5;241m.\u001b[39mrepartition(num_proc)\n",
      "\u001b[0;31mNameError\u001b[0m: name 'spark' is not defined"
     ]
    }
   ],
   "source": [
    "# Setup store for intermediate data\n",
    "store = DBFSLocalStore(work_dir)\n",
    "\n",
    "# Load MNIST data from databricks-datasets\n",
    "# So that this notebook can run quickly, this example uses the .limit() option. Using only limited data decreases the model's accuracy; remove this option for better accuracy. \n",
    "train_df = spark.read.format(\"libsvm\") \\\n",
    "  .option('numFeatures', '784') \\\n",
    "  .load(\"/databricks-datasets/mnist-digits/data-001/mnist-digits-train.txt\") \\\n",
    "  .limit(60).repartition(num_proc)\n",
    "test_df = spark.read.format(\"libsvm\") \\\n",
    "  .option('numFeatures', '784') \\\n",
    "  .load(\"/databricks-datasets/mnist-digits/data-001/mnist-digits-test.txt\") \\\n",
    "  .limit(20).repartition(num_proc)"
   ]
  },
  {
   "cell_type": "code",
   "execution_count": null,
   "id": "ccb27561",
   "metadata": {},
   "outputs": [],
   "source": []
  }
 ],
 "metadata": {
  "kernelspec": {
   "display_name": "rtdlVirEnv",
   "language": "python",
   "name": "rtdlvirenv"
  },
  "language_info": {
   "codemirror_mode": {
    "name": "ipython",
    "version": 3
   },
   "file_extension": ".py",
   "mimetype": "text/x-python",
   "name": "python",
   "nbconvert_exporter": "python",
   "pygments_lexer": "ipython3",
   "version": "3.8.13"
  }
 },
 "nbformat": 4,
 "nbformat_minor": 5
}
